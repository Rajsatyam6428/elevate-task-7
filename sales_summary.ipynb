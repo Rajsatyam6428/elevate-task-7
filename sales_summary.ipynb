{
 "cells": [
  {
   "cell_type": "code",
   "execution_count": 1,
   "id": "ba0a17e6",
   "metadata": {},
   "outputs": [
    {
     "name": "stdout",
     "output_type": "stream",
     "text": [
      "✅ Rich sales data inserted into database.\n"
     ]
    }
   ],
   "source": [
    "import sqlite3\n",
    "\n",
    "# Connect to or create the database\n",
    "conn = sqlite3.connect(\"sales_data.db\")\n",
    "cursor = conn.cursor()\n",
    "\n",
    "# Drop old table if it exists (to avoid duplicates)\n",
    "cursor.execute(\"DROP TABLE IF EXISTS sales\")\n",
    "\n",
    "# Create new sales table\n",
    "cursor.execute(\"\"\"\n",
    "CREATE TABLE sales (\n",
    "    id INTEGER PRIMARY KEY AUTOINCREMENT,\n",
    "    product TEXT,\n",
    "    quantity INTEGER,\n",
    "    price REAL\n",
    ")\n",
    "\"\"\")\n",
    "\n",
    "# Richer sample data\n",
    "sample_data = [\n",
    "    (\"Laptop\", 3, 800),\n",
    "    (\"Laptop\", 2, 800),\n",
    "    (\"Mouse\", 15, 25),\n",
    "    (\"Mouse\", 12, 25),\n",
    "    (\"Keyboard\", 10, 50),\n",
    "    (\"Keyboard\", 6, 50),\n",
    "    (\"Monitor\", 3, 200),\n",
    "    (\"Monitor\", 5, 200),\n",
    "    (\"Headphones\", 8, 120),\n",
    "    (\"Webcam\", 4, 75),\n",
    "    (\"Webcam\", 2, 75),\n",
    "    (\"Chair\", 2, 150),\n",
    "    (\"Desk\", 1, 300)\n",
    "]\n",
    "\n",
    "# Insert new data\n",
    "cursor.executemany(\"INSERT INTO sales (product, quantity, price) VALUES (?, ?, ?)\", sample_data)\n",
    "conn.commit()\n",
    "conn.close()\n",
    "\n",
    "print(\"✅ Rich sales data inserted into database.\")\n"
   ]
  },
  {
   "cell_type": "code",
   "execution_count": 2,
   "id": "f7fb8c0d",
   "metadata": {},
   "outputs": [
    {
     "name": "stdout",
     "output_type": "stream",
     "text": [
      "📈 SALES SUMMARY:\n"
     ]
    },
    {
     "data": {
      "application/vnd.microsoft.datawrangler.viewer.v0+json": {
       "columns": [
        {
         "name": "index",
         "rawType": "int64",
         "type": "integer"
        },
        {
         "name": "product",
         "rawType": "object",
         "type": "string"
        },
        {
         "name": "total_quantity",
         "rawType": "int64",
         "type": "integer"
        },
        {
         "name": "revenue",
         "rawType": "float64",
         "type": "float"
        }
       ],
       "ref": "5a5519fd-da8b-4098-9882-b941988c4c8c",
       "rows": [
        [
         "0",
         "Chair",
         "2",
         "300.0"
        ],
        [
         "1",
         "Desk",
         "1",
         "300.0"
        ],
        [
         "2",
         "Headphones",
         "8",
         "960.0"
        ],
        [
         "3",
         "Keyboard",
         "16",
         "800.0"
        ],
        [
         "4",
         "Laptop",
         "5",
         "4000.0"
        ],
        [
         "5",
         "Monitor",
         "8",
         "1600.0"
        ],
        [
         "6",
         "Mouse",
         "27",
         "675.0"
        ],
        [
         "7",
         "Webcam",
         "6",
         "450.0"
        ]
       ],
       "shape": {
        "columns": 3,
        "rows": 8
       }
      },
      "text/html": [
       "<div>\n",
       "<style scoped>\n",
       "    .dataframe tbody tr th:only-of-type {\n",
       "        vertical-align: middle;\n",
       "    }\n",
       "\n",
       "    .dataframe tbody tr th {\n",
       "        vertical-align: top;\n",
       "    }\n",
       "\n",
       "    .dataframe thead th {\n",
       "        text-align: right;\n",
       "    }\n",
       "</style>\n",
       "<table border=\"1\" class=\"dataframe\">\n",
       "  <thead>\n",
       "    <tr style=\"text-align: right;\">\n",
       "      <th></th>\n",
       "      <th>product</th>\n",
       "      <th>total_quantity</th>\n",
       "      <th>revenue</th>\n",
       "    </tr>\n",
       "  </thead>\n",
       "  <tbody>\n",
       "    <tr>\n",
       "      <th>0</th>\n",
       "      <td>Chair</td>\n",
       "      <td>2</td>\n",
       "      <td>300.0</td>\n",
       "    </tr>\n",
       "    <tr>\n",
       "      <th>1</th>\n",
       "      <td>Desk</td>\n",
       "      <td>1</td>\n",
       "      <td>300.0</td>\n",
       "    </tr>\n",
       "    <tr>\n",
       "      <th>2</th>\n",
       "      <td>Headphones</td>\n",
       "      <td>8</td>\n",
       "      <td>960.0</td>\n",
       "    </tr>\n",
       "    <tr>\n",
       "      <th>3</th>\n",
       "      <td>Keyboard</td>\n",
       "      <td>16</td>\n",
       "      <td>800.0</td>\n",
       "    </tr>\n",
       "    <tr>\n",
       "      <th>4</th>\n",
       "      <td>Laptop</td>\n",
       "      <td>5</td>\n",
       "      <td>4000.0</td>\n",
       "    </tr>\n",
       "    <tr>\n",
       "      <th>5</th>\n",
       "      <td>Monitor</td>\n",
       "      <td>8</td>\n",
       "      <td>1600.0</td>\n",
       "    </tr>\n",
       "    <tr>\n",
       "      <th>6</th>\n",
       "      <td>Mouse</td>\n",
       "      <td>27</td>\n",
       "      <td>675.0</td>\n",
       "    </tr>\n",
       "    <tr>\n",
       "      <th>7</th>\n",
       "      <td>Webcam</td>\n",
       "      <td>6</td>\n",
       "      <td>450.0</td>\n",
       "    </tr>\n",
       "  </tbody>\n",
       "</table>\n",
       "</div>"
      ],
      "text/plain": [
       "      product  total_quantity  revenue\n",
       "0       Chair               2    300.0\n",
       "1        Desk               1    300.0\n",
       "2  Headphones               8    960.0\n",
       "3    Keyboard              16    800.0\n",
       "4      Laptop               5   4000.0\n",
       "5     Monitor               8   1600.0\n",
       "6       Mouse              27    675.0\n",
       "7      Webcam               6    450.0"
      ]
     },
     "execution_count": 2,
     "metadata": {},
     "output_type": "execute_result"
    }
   ],
   "source": [
    "import pandas as pd\n",
    "\n",
    "# Reconnect to database\n",
    "conn = sqlite3.connect(\"sales_data.db\")\n",
    "\n",
    "# SQL query\n",
    "query = \"\"\"\n",
    "SELECT \n",
    "    product, \n",
    "    SUM(quantity) AS total_quantity, \n",
    "    ROUND(SUM(quantity * price), 2) AS revenue \n",
    "FROM sales \n",
    "GROUP BY product\n",
    "\"\"\"\n",
    "\n",
    "# Load into DataFrame\n",
    "df = pd.read_sql_query(query, conn)\n",
    "conn.close()\n",
    "\n",
    "# Display the result\n",
    "print(\"📈 SALES SUMMARY:\")\n",
    "df\n"
   ]
  },
  {
   "cell_type": "code",
   "execution_count": 12,
   "id": "9a7ebe70",
   "metadata": {},
   "outputs": [
    {
     "data": {
      "image/png": "[encoded data removed]",
      "text/plain": [
       "<Figure size 640x480 with 1 Axes>"
      ]
     },
     "metadata": {},
     "output_type": "display_data"
    }
   ],
   "source": [
    "import matplotlib.pyplot as plt\n",
    "\n",
    "# Plot\n",
    "df.plot(kind='bar', x='product', y='revenue', title='Revenue by Product', legend=False, color='teal')\n",
    "plt.xlabel(\"Product\")\n",
    "plt.ylabel(\"Revenue\")\n",
    "plt.tight_layout()\n",
    "plt.savefig(\"sales_chart.png\")\n",
    "plt.show()\n"
   ]
  },
  {
   "cell_type": "code",
   "execution_count": 4,
   "id": "2637f07f",
   "metadata": {},
   "outputs": [
    {
     "name": "stdout",
     "output_type": "stream",
     "text": [
      "    id     product  quantity  price\n",
      "0    1      Laptop         3  800.0\n",
      "1    2      Laptop         2  800.0\n",
      "2    3       Mouse        15   25.0\n",
      "3    4       Mouse        12   25.0\n",
      "4    5    Keyboard        10   50.0\n",
      "5    6    Keyboard         6   50.0\n",
      "6    7     Monitor         3  200.0\n",
      "7    8     Monitor         5  200.0\n",
      "8    9  Headphones         8  120.0\n",
      "9   10      Webcam         4   75.0\n",
      "10  11      Webcam         2   75.0\n",
      "11  12       Chair         2  150.0\n",
      "12  13        Desk         1  300.0\n"
     ]
    }
   ],
   "source": [
    "import sqlite3\n",
    "import pandas as pd\n",
    "\n",
    "conn = sqlite3.connect(\"sales_data.db\")\n",
    "df = pd.read_sql_query(\"SELECT * FROM sales\", conn)\n",
    "conn.close()\n",
    "\n",
    "print(df)\n"
   ]
  },
  {
   "cell_type": "code",
   "execution_count": 13,
   "id": "30c81852",
   "metadata": {},
   "outputs": [
    {
     "name": "stdout",
     "output_type": "stream",
     "text": [
      "Index(['product', 'total_quantity', 'revenue'], dtype='object')\n"
     ]
    },
    {
     "data": {
      "application/vnd.microsoft.datawrangler.viewer.v0+json": {
       "columns": [
        {
         "name": "index",
         "rawType": "int64",
         "type": "integer"
        },
        {
         "name": "product",
         "rawType": "object",
         "type": "string"
        },
        {
         "name": "total_quantity",
         "rawType": "int64",
         "type": "integer"
        },
        {
         "name": "revenue",
         "rawType": "float64",
         "type": "float"
        }
       ],
       "ref": "41ac70f6-711b-4d0b-af24-f01e6cbcc505",
       "rows": [
        [
         "0",
         "Chair",
         "2",
         "300.0"
        ],
        [
         "1",
         "Desk",
         "1",
         "300.0"
        ],
        [
         "2",
         "Headphones",
         "8",
         "960.0"
        ],
        [
         "3",
         "Keyboard",
         "16",
         "800.0"
        ],
        [
         "4",
         "Laptop",
         "5",
         "4000.0"
        ]
       ],
       "shape": {
        "columns": 3,
        "rows": 5
       }
      },
      "text/html": [
       "<div>\n",
       "<style scoped>\n",
       "    .dataframe tbody tr th:only-of-type {\n",
       "        vertical-align: middle;\n",
       "    }\n",
       "\n",
       "    .dataframe tbody tr th {\n",
       "        vertical-align: top;\n",
       "    }\n",
       "\n",
       "    .dataframe thead th {\n",
       "        text-align: right;\n",
       "    }\n",
       "</style>\n",
       "<table border=\"1\" class=\"dataframe\">\n",
       "  <thead>\n",
       "    <tr style=\"text-align: right;\">\n",
       "      <th></th>\n",
       "      <th>product</th>\n",
       "      <th>total_quantity</th>\n",
       "      <th>revenue</th>\n",
       "    </tr>\n",
       "  </thead>\n",
       "  <tbody>\n",
       "    <tr>\n",
       "      <th>0</th>\n",
       "      <td>Chair</td>\n",
       "      <td>2</td>\n",
       "      <td>300.0</td>\n",
       "    </tr>\n",
       "    <tr>\n",
       "      <th>1</th>\n",
       "      <td>Desk</td>\n",
       "      <td>1</td>\n",
       "      <td>300.0</td>\n",
       "    </tr>\n",
       "    <tr>\n",
       "      <th>2</th>\n",
       "      <td>Headphones</td>\n",
       "      <td>8</td>\n",
       "      <td>960.0</td>\n",
       "    </tr>\n",
       "    <tr>\n",
       "      <th>3</th>\n",
       "      <td>Keyboard</td>\n",
       "      <td>16</td>\n",
       "      <td>800.0</td>\n",
       "    </tr>\n",
       "    <tr>\n",
       "      <th>4</th>\n",
       "      <td>Laptop</td>\n",
       "      <td>5</td>\n",
       "      <td>4000.0</td>\n",
       "    </tr>\n",
       "  </tbody>\n",
       "</table>\n",
       "</div>"
      ],
      "text/plain": [
       "      product  total_quantity  revenue\n",
       "0       Chair               2    300.0\n",
       "1        Desk               1    300.0\n",
       "2  Headphones               8    960.0\n",
       "3    Keyboard              16    800.0\n",
       "4      Laptop               5   4000.0"
      ]
     },
     "execution_count": 13,
     "metadata": {},
     "output_type": "execute_result"
    }
   ],
   "source": [
    "import sqlite3\n",
    "import pandas as pd\n",
    "\n",
    "# Connect to DB\n",
    "conn = sqlite3.connect(\"sales_data.db\")\n",
    "\n",
    "# Correct SQL: SUM of quantity * price = revenue\n",
    "query = \"\"\"\n",
    "SELECT \n",
    "    product, \n",
    "    SUM(quantity) AS total_quantity, \n",
    "    ROUND(SUM(quantity * price), 2) AS revenue \n",
    "FROM sales \n",
    "GROUP BY product\n",
    "\"\"\"\n",
    "\n",
    "# Run query\n",
    "df = pd.read_sql_query(query, conn)\n",
    "conn.close()\n",
    "\n",
    "# Confirm the structure\n",
    "print(df.columns)\n",
    "df.head()\n"
   ]
  },
  {
   "cell_type": "code",
   "execution_count": 16,
   "id": "8d5822a3",
   "metadata": {},
   "outputs": [
    {
     "data": {
      "image/png": "[encoded data removed]",
      "text/plain": [
       "<Figure size 600x600 with 1 Axes>"
      ]
     },
     "metadata": {},
     "output_type": "display_data"
    }
   ],
   "source": [
    "plt.figure(figsize=(6, 6))\n",
    "plt.pie(df['revenue'], labels=df['product'], autopct='%1.1f%%', startangle=140)\n",
    "plt.title('Revenue Share by Product')\n",
    "plt.axis('equal')\n",
    "plt.show()\n"
   ]
  }
 ],
 "metadata": {
  "kernelspec": {
   "display_name": "Python 3",
   "language": "python",
   "name": "python3"
  },
  "language_info": {
   "codemirror_mode": {
    "name": "ipython",
    "version": 3
   },
   "file_extension": ".py",
   "mimetype": "text/x-python",
   "name": "python",
   "nbconvert_exporter": "python",
   "pygments_lexer": "ipython3",
   "version": "3.13.5"
  }
 },
 "nbformat": 4,
 "nbformat_minor": 5
}
